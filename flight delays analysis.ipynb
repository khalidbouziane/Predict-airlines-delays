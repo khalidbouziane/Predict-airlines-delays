{
 "cells": [
  {
   "cell_type": "code",
   "execution_count": 1,
   "metadata": {},
   "outputs": [],
   "source": [
    "# Importing libraries necessary for this analysis\n",
    "import numpy as np\n",
    "import sklearn\n",
    "import pandas as pd\n",
    "import seaborn as sns\n",
    "import matplotlib.pyplot as plt\n",
    "%matplotlib inline"
   ]
  },
  {
   "cell_type": "code",
   "execution_count": 2,
   "metadata": {},
   "outputs": [
    {
     "name": "stderr",
     "output_type": "stream",
     "text": [
      "c:\\users\\hp\\appdata\\local\\conda\\conda\\envs\\cv-nd\\lib\\site-packages\\IPython\\core\\interactiveshell.py:2785: DtypeWarning: Columns (77) have mixed types. Specify dtype option on import or set low_memory=False.\n",
      "  interactivity=interactivity, compiler=compiler, result=result)\n"
     ]
    }
   ],
   "source": [
    "# Loading csv file into a dataframe\n",
    "df = pd.read_csv(\"On_Time_On_Time_Performance_2016_1.csv\")"
   ]
  },
  {
   "cell_type": "code",
   "execution_count": 3,
   "metadata": {},
   "outputs": [
    {
     "data": {
      "text/html": [
       "<div>\n",
       "<style scoped>\n",
       "    .dataframe tbody tr th:only-of-type {\n",
       "        vertical-align: middle;\n",
       "    }\n",
       "\n",
       "    .dataframe tbody tr th {\n",
       "        vertical-align: top;\n",
       "    }\n",
       "\n",
       "    .dataframe thead th {\n",
       "        text-align: right;\n",
       "    }\n",
       "</style>\n",
       "<table border=\"1\" class=\"dataframe\">\n",
       "  <thead>\n",
       "    <tr style=\"text-align: right;\">\n",
       "      <th></th>\n",
       "      <th>Year</th>\n",
       "      <th>Quarter</th>\n",
       "      <th>Month</th>\n",
       "      <th>DayofMonth</th>\n",
       "      <th>DayOfWeek</th>\n",
       "      <th>FlightDate</th>\n",
       "      <th>UniqueCarrier</th>\n",
       "      <th>AirlineID</th>\n",
       "      <th>Carrier</th>\n",
       "      <th>TailNum</th>\n",
       "      <th>...</th>\n",
       "      <th>Div4TailNum</th>\n",
       "      <th>Div5Airport</th>\n",
       "      <th>Div5AirportID</th>\n",
       "      <th>Div5AirportSeqID</th>\n",
       "      <th>Div5WheelsOn</th>\n",
       "      <th>Div5TotalGTime</th>\n",
       "      <th>Div5LongestGTime</th>\n",
       "      <th>Div5WheelsOff</th>\n",
       "      <th>Div5TailNum</th>\n",
       "      <th>Unnamed: 109</th>\n",
       "    </tr>\n",
       "  </thead>\n",
       "  <tbody>\n",
       "    <tr>\n",
       "      <th>0</th>\n",
       "      <td>2016</td>\n",
       "      <td>1</td>\n",
       "      <td>1</td>\n",
       "      <td>6</td>\n",
       "      <td>3</td>\n",
       "      <td>2016-01-06</td>\n",
       "      <td>AA</td>\n",
       "      <td>19805</td>\n",
       "      <td>AA</td>\n",
       "      <td>N4YBAA</td>\n",
       "      <td>...</td>\n",
       "      <td>NaN</td>\n",
       "      <td>NaN</td>\n",
       "      <td>NaN</td>\n",
       "      <td>NaN</td>\n",
       "      <td>NaN</td>\n",
       "      <td>NaN</td>\n",
       "      <td>NaN</td>\n",
       "      <td>NaN</td>\n",
       "      <td>NaN</td>\n",
       "      <td>NaN</td>\n",
       "    </tr>\n",
       "    <tr>\n",
       "      <th>1</th>\n",
       "      <td>2016</td>\n",
       "      <td>1</td>\n",
       "      <td>1</td>\n",
       "      <td>7</td>\n",
       "      <td>4</td>\n",
       "      <td>2016-01-07</td>\n",
       "      <td>AA</td>\n",
       "      <td>19805</td>\n",
       "      <td>AA</td>\n",
       "      <td>N434AA</td>\n",
       "      <td>...</td>\n",
       "      <td>NaN</td>\n",
       "      <td>NaN</td>\n",
       "      <td>NaN</td>\n",
       "      <td>NaN</td>\n",
       "      <td>NaN</td>\n",
       "      <td>NaN</td>\n",
       "      <td>NaN</td>\n",
       "      <td>NaN</td>\n",
       "      <td>NaN</td>\n",
       "      <td>NaN</td>\n",
       "    </tr>\n",
       "    <tr>\n",
       "      <th>2</th>\n",
       "      <td>2016</td>\n",
       "      <td>1</td>\n",
       "      <td>1</td>\n",
       "      <td>8</td>\n",
       "      <td>5</td>\n",
       "      <td>2016-01-08</td>\n",
       "      <td>AA</td>\n",
       "      <td>19805</td>\n",
       "      <td>AA</td>\n",
       "      <td>N541AA</td>\n",
       "      <td>...</td>\n",
       "      <td>NaN</td>\n",
       "      <td>NaN</td>\n",
       "      <td>NaN</td>\n",
       "      <td>NaN</td>\n",
       "      <td>NaN</td>\n",
       "      <td>NaN</td>\n",
       "      <td>NaN</td>\n",
       "      <td>NaN</td>\n",
       "      <td>NaN</td>\n",
       "      <td>NaN</td>\n",
       "    </tr>\n",
       "  </tbody>\n",
       "</table>\n",
       "<p>3 rows × 110 columns</p>\n",
       "</div>"
      ],
      "text/plain": [
       "   Year  Quarter  Month  DayofMonth  DayOfWeek  FlightDate UniqueCarrier  \\\n",
       "0  2016        1      1           6          3  2016-01-06            AA   \n",
       "1  2016        1      1           7          4  2016-01-07            AA   \n",
       "2  2016        1      1           8          5  2016-01-08            AA   \n",
       "\n",
       "   AirlineID Carrier TailNum      ...       Div4TailNum  Div5Airport  \\\n",
       "0      19805      AA  N4YBAA      ...               NaN          NaN   \n",
       "1      19805      AA  N434AA      ...               NaN          NaN   \n",
       "2      19805      AA  N541AA      ...               NaN          NaN   \n",
       "\n",
       "   Div5AirportID  Div5AirportSeqID Div5WheelsOn Div5TotalGTime  \\\n",
       "0            NaN               NaN          NaN            NaN   \n",
       "1            NaN               NaN          NaN            NaN   \n",
       "2            NaN               NaN          NaN            NaN   \n",
       "\n",
       "  Div5LongestGTime  Div5WheelsOff Div5TailNum  Unnamed: 109  \n",
       "0              NaN            NaN         NaN           NaN  \n",
       "1              NaN            NaN         NaN           NaN  \n",
       "2              NaN            NaN         NaN           NaN  \n",
       "\n",
       "[3 rows x 110 columns]"
      ]
     },
     "execution_count": 3,
     "metadata": {},
     "output_type": "execute_result"
    }
   ],
   "source": [
    "df.head(3)"
   ]
  },
  {
   "cell_type": "code",
   "execution_count": 4,
   "metadata": {},
   "outputs": [
    {
     "data": {
      "text/plain": [
       "(445827, 110)"
      ]
     },
     "execution_count": 4,
     "metadata": {},
     "output_type": "execute_result"
    }
   ],
   "source": [
    "# total number of rows and columns in the dataset\n",
    "df.shape"
   ]
  },
  {
   "cell_type": "code",
   "execution_count": 5,
   "metadata": {},
   "outputs": [
    {
     "data": {
      "text/plain": [
       "<matplotlib.axes._subplots.AxesSubplot at 0x20c3e97ce80>"
      ]
     },
     "execution_count": 5,
     "metadata": {},
     "output_type": "execute_result"
    },
    {
     "data": {
      "image/png": "[encoded data removed]",
      "text/plain": [
       "<matplotlib.figure.Figure at 0x20c3e97c6a0>"
      ]
     },
     "metadata": {},
     "output_type": "display_data"
    }
   ],
   "source": [
    "# To identify missing records in the dataset\n",
    "# Yellow - missing values\n",
    "plt.figure(figsize = (12, 8))\n",
    "sns.heatmap(df.isnull(),yticklabels=False,cbar=False,cmap='viridis')"
   ]
  },
  {
   "cell_type": "code",
   "execution_count": 6,
   "metadata": {},
   "outputs": [
    {
     "data": {
      "text/plain": [
       "Index(['Year', 'Quarter', 'Month', 'DayofMonth', 'DayOfWeek', 'FlightDate',\n",
       "       'UniqueCarrier', 'AirlineID', 'Carrier', 'TailNum', 'FlightNum',\n",
       "       'OriginAirportID', 'OriginAirportSeqID', 'OriginCityMarketID', 'Origin',\n",
       "       'OriginCityName', 'OriginState', 'OriginStateFips', 'OriginStateName',\n",
       "       'OriginWac', 'DestAirportID', 'DestAirportSeqID', 'DestCityMarketID',\n",
       "       'Dest', 'DestCityName', 'DestState', 'DestStateFips', 'DestStateName',\n",
       "       'DestWac', 'CRSDepTime', 'DepTime', 'DepDelay', 'DepDelayMinutes',\n",
       "       'DepDel15', 'DepartureDelayGroups', 'DepTimeBlk', 'TaxiOut',\n",
       "       'WheelsOff', 'WheelsOn', 'TaxiIn', 'CRSArrTime', 'ArrTime', 'ArrDelay',\n",
       "       'ArrDelayMinutes', 'ArrDel15', 'ArrivalDelayGroups', 'ArrTimeBlk',\n",
       "       'Cancelled', 'Diverted', 'CRSElapsedTime', 'ActualElapsedTime',\n",
       "       'AirTime', 'Flights', 'Distance', 'DistanceGroup',\n",
       "       'DivAirportLandings'],\n",
       "      dtype='object')"
      ]
     },
     "execution_count": 6,
     "metadata": {},
     "output_type": "execute_result"
    }
   ],
   "source": [
    "# Dropping columns that have more than 2/3 of missing entries\n",
    "for i in df.columns:\n",
    "    if df[i].isnull().sum() > 300000:\n",
    "        df.drop(i, axis = 1, inplace = True)\n",
    "df.columns        "
   ]
  },
  {
   "cell_type": "code",
   "execution_count": 7,
   "metadata": {},
   "outputs": [
    {
     "data": {
      "text/plain": [
       "Index(['DayofMonth', 'DayOfWeek', 'FlightDate', 'UniqueCarrier', 'AirlineID',\n",
       "       'Carrier', 'TailNum', 'FlightNum', 'OriginAirportID',\n",
       "       'OriginAirportSeqID', 'OriginCityMarketID', 'Origin', 'OriginCityName',\n",
       "       'OriginState', 'OriginStateFips', 'OriginStateName', 'OriginWac',\n",
       "       'DestAirportID', 'DestAirportSeqID', 'DestCityMarketID', 'Dest',\n",
       "       'DestCityName', 'DestState', 'DestStateFips', 'DestStateName',\n",
       "       'DestWac', 'CRSDepTime', 'DepTime', 'DepDelay', 'DepDelayMinutes',\n",
       "       'DepDel15', 'DepartureDelayGroups', 'DepTimeBlk', 'TaxiOut',\n",
       "       'WheelsOff', 'WheelsOn', 'TaxiIn', 'CRSArrTime', 'ArrTime', 'ArrDelay',\n",
       "       'ArrDelayMinutes', 'ArrDel15', 'ArrivalDelayGroups', 'ArrTimeBlk',\n",
       "       'Cancelled', 'Diverted', 'CRSElapsedTime', 'ActualElapsedTime',\n",
       "       'AirTime', 'Distance', 'DistanceGroup', 'DivAirportLandings'],\n",
       "      dtype='object')"
      ]
     },
     "execution_count": 7,
     "metadata": {},
     "output_type": "execute_result"
    }
   ],
   "source": [
    "# Dropping columns that do not provide useful information for this analysis\n",
    "for i in df.columns:\n",
    "    if df[i].nunique() == 1:\n",
    "        df.drop(i, axis = 1, inplace = True)\n",
    "df.columns"
   ]
  },
  {
   "cell_type": "code",
   "execution_count": 8,
   "metadata": {},
   "outputs": [
    {
     "data": {
      "text/plain": [
       "(445827, 52)"
      ]
     },
     "execution_count": 8,
     "metadata": {},
     "output_type": "execute_result"
    }
   ],
   "source": [
    "# Total number of rows and columns after deleting columns with 2/3 of missing values and no useful information\n",
    "df.shape"
   ]
  },
  {
   "cell_type": "markdown",
   "metadata": {},
   "source": [
    "### Analysis"
   ]
  },
  {
   "cell_type": "markdown",
   "metadata": {},
   "source": [
    "The exploratory analysis was done to identify the features that look promising in the analysis to predict flight arrival delays. Our target variable is ArrDel15 - Arrival Delay Indicator, 15 Minutes or More (1=Yes)"
   ]
  },
  {
   "cell_type": "code",
   "execution_count": 9,
   "metadata": {},
   "outputs": [
    {
     "data": {
      "text/plain": [
       "<matplotlib.axes._subplots.AxesSubplot at 0x20c084c11d0>"
      ]
     },
     "execution_count": 9,
     "metadata": {},
     "output_type": "execute_result"
    },
    {
     "data": {
      "image/png": "[encoded data removed]",
      "text/plain": [
       "<matplotlib.figure.Figure at 0x20c084c1f98>"
      ]
     },
     "metadata": {},
     "output_type": "display_data"
    }
   ],
   "source": [
    "sns.set_style('whitegrid')\n",
    "sns.countplot(x='ArrDel15',data=df,palette='RdBu_r')"
   ]
  },
  {
   "cell_type": "code",
   "execution_count": 10,
   "metadata": {},
   "outputs": [
    {
     "data": {
      "text/plain": [
       "0.0    362416\n",
       "1.0     70882\n",
       "Name: ArrDel15, dtype: int64"
      ]
     },
     "execution_count": 10,
     "metadata": {},
     "output_type": "execute_result"
    }
   ],
   "source": [
    "df.ArrDel15.value_counts()"
   ]
  },
  {
   "cell_type": "code",
   "execution_count": 11,
   "metadata": {},
   "outputs": [
    {
     "data": {
      "text/plain": [
       "0.0    0.836413\n",
       "1.0    0.163587\n",
       "Name: ArrDel15, dtype: float64"
      ]
     },
     "execution_count": 11,
     "metadata": {},
     "output_type": "execute_result"
    }
   ],
   "source": [
    "df.ArrDel15.value_counts(normalize=True)"
   ]
  },
  {
   "cell_type": "markdown",
   "metadata": {},
   "source": [
    "The dataset is very highly asymmetric, with positive arrival delays only making up 16% of the samples. This means that a classifier that predicts that there is no arrival delay has an accuracy of 84%."
   ]
  },
  {
   "cell_type": "markdown",
   "metadata": {},
   "source": [
    "The variable called cols was created to store the continuous variables that will be used in this analysis"
   ]
  },
  {
   "cell_type": "code",
   "execution_count": 12,
   "metadata": {},
   "outputs": [],
   "source": [
    "cols =  ['TaxiOut','TaxiIn', 'AirTime', 'Distance']"
   ]
  },
  {
   "cell_type": "markdown",
   "metadata": {},
   "source": [
    "The following plots were made to explore the categorical variables in the dataset to predict arrival delays"
   ]
  },
  {
   "cell_type": "code",
   "execution_count": 13,
   "metadata": {},
   "outputs": [
    {
     "data": {
      "image/png": "[encoded data removed]",
      "text/plain": [
       "<matplotlib.figure.Figure at 0x20c3e5b7588>"
      ]
     },
     "metadata": {},
     "output_type": "display_data"
    }
   ],
   "source": [
    "sns.set_style('whitegrid')\n",
    "plt.figure(figsize=(12, 5))\n",
    "order = np.unique(list(df['FlightDate']))\n",
    "ax = sns.barplot(x='FlightDate',y ='ArrDel15', data=df, color = \"blue\" , order = order , estimator = np.sum)\n",
    "plt.xticks(rotation=90)\n",
    "fig = plt.title(\"FlightDate Vs Total number of delayed flights \")"
   ]
  },
  {
   "cell_type": "code",
   "execution_count": 14,
   "metadata": {},
   "outputs": [
    {
     "data": {
      "image/png": "[encoded data removed]",
      "text/plain": [
       "<matplotlib.figure.Figure at 0x20c0865e0b8>"
      ]
     },
     "metadata": {},
     "output_type": "display_data"
    }
   ],
   "source": [
    "sns.set_style('whitegrid')\n",
    "plt.figure(figsize=(12, 5))\n",
    "order = np.unique(list(df['FlightDate']))\n",
    "ax = sns.barplot(x='FlightDate',y ='ArrDelayMinutes', data=df, color = \"blue\" , order = order , estimator = np.sum)\n",
    "plt.xticks(rotation=90)\n",
    "fig = plt.title(\"FlightDate Vs Arrival Delay Minutes\")"
   ]
  },
  {
   "cell_type": "code",
   "execution_count": 15,
   "metadata": {},
   "outputs": [
    {
     "data": {
      "image/png": "[encoded data removed]",
      "text/plain": [
       "<matplotlib.figure.Figure at 0x20c08987fd0>"
      ]
     },
     "metadata": {},
     "output_type": "display_data"
    }
   ],
   "source": [
    "sns.set_style('whitegrid')\n",
    "plt.figure(figsize=(12, 5))\n",
    "order = np.unique(list(df['FlightDate']))\n",
    "ax = sns.barplot(x='FlightDate',y ='ArrDel15', data=df, color = \"blue\" , order = order , estimator = np.mean)\n",
    "plt.xticks(rotation=90)\n",
    "fig = plt.title(\"FlightDate Vs Probability of Arrival Delay15\")"
   ]
  },
  {
   "cell_type": "code",
   "execution_count": 16,
   "metadata": {},
   "outputs": [
    {
     "data": {
      "image/png": "[encoded data removed]",
      "text/plain": [
       "<matplotlib.figure.Figure at 0x20c086e9e80>"
      ]
     },
     "metadata": {},
     "output_type": "display_data"
    }
   ],
   "source": [
    "sns.set_style('whitegrid')\n",
    "carrier_order = np.unique(list(df['UniqueCarrier']))\n",
    "sns.barplot(x='UniqueCarrier',y ='ArrDelayMinutes', data=df, color = \"blue\" , order = carrier_order)\n",
    "fig = plt.title(\"Carrier Vs Average Arrival Delay Minutes\")"
   ]
  },
  {
   "cell_type": "markdown",
   "metadata": {},
   "source": [
    "The carriers B6 and NK seem to have longer arrival delays"
   ]
  },
  {
   "cell_type": "code",
   "execution_count": 17,
   "metadata": {},
   "outputs": [],
   "source": [
    "carrier_grouped = df.groupby('UniqueCarrier').mean()"
   ]
  },
  {
   "cell_type": "code",
   "execution_count": 18,
   "metadata": {},
   "outputs": [
    {
     "data": {
      "image/png": "[encoded data removed]",
      "text/plain": [
       "<matplotlib.figure.Figure at 0x20c0897b128>"
      ]
     },
     "metadata": {},
     "output_type": "display_data"
    }
   ],
   "source": [
    "sns.set_style('whitegrid')\n",
    "sns.barplot(x=carrier_grouped.index, y =\"DepDel15\", data=carrier_grouped, color ='blue')\n",
    "fig = plt.title(\"Carrier Vs Probability of Departure Delay15\")"
   ]
  },
  {
   "cell_type": "markdown",
   "metadata": {},
   "source": [
    "The carriers B6 and NK seem to have higher number of flight departure delays"
   ]
  },
  {
   "cell_type": "code",
   "execution_count": 19,
   "metadata": {},
   "outputs": [],
   "source": [
    "# Splitting month column into 5 weeks\n",
    "def Impute_month(cols):\n",
    "    if cols in [1,2,3,4,5,6,7]:\n",
    "        return \"weekI\"\n",
    "\n",
    "    elif cols in [8,9,10,11,12,13,14]:\n",
    "        return \"weekII\"\n",
    "\n",
    "    elif cols in [15,16,17,18,19,20,21]:\n",
    "        return \"weekIII\"\n",
    "\n",
    "    elif cols in [22,23,24,25,26,27,28]:\n",
    "        return \"weekIV\"\n",
    "\n",
    "    else:\n",
    "        return \"weekV\"\n",
    "\n",
    "df['Month'] = df['DayofMonth'].apply(Impute_month)\n",
    "df.drop(\"DayofMonth\", axis = 1, inplace = True)    \n"
   ]
  },
  {
   "cell_type": "code",
   "execution_count": 20,
   "metadata": {},
   "outputs": [
    {
     "data": {
      "text/plain": [
       "0     weekI\n",
       "1     weekI\n",
       "2    weekII\n",
       "Name: Month, dtype: object"
      ]
     },
     "execution_count": 20,
     "metadata": {},
     "output_type": "execute_result"
    }
   ],
   "source": [
    "df['Month'].head(3)"
   ]
  },
  {
   "cell_type": "code",
   "execution_count": 21,
   "metadata": {},
   "outputs": [],
   "source": [
    "# Splitting week column into weekend and weekdays\n",
    "def Impute_week(cols):\n",
    "    if cols in [1,7]:\n",
    "        return \"Weekend\"\n",
    "\n",
    "    else:\n",
    "        return \"Weekdays\"\n",
    "    \n",
    "    \n",
    "df['Week'] = df[\"DayOfWeek\"].apply(Impute_week)\n",
    "df.drop(\"DayOfWeek\", axis = 1, inplace = True)"
   ]
  },
  {
   "cell_type": "code",
   "execution_count": 22,
   "metadata": {},
   "outputs": [
    {
     "data": {
      "text/plain": [
       "0    Weekdays\n",
       "1    Weekdays\n",
       "2    Weekdays\n",
       "Name: Week, dtype: object"
      ]
     },
     "execution_count": 22,
     "metadata": {},
     "output_type": "execute_result"
    }
   ],
   "source": [
    "df['Week'].head(3)"
   ]
  },
  {
   "cell_type": "code",
   "execution_count": 23,
   "metadata": {},
   "outputs": [],
   "source": [
    "Month_grouped1 = df.groupby('Month')[\"ArrDel15\"].sum()\n",
    "Month_grouped2 = df.groupby('Month')[\"ArrDel15\"].count()\n",
    "Month_grouped = pd.concat([Month_grouped1, Month_grouped2],axis=1, keys=[\"sum\", \"count\"])\n",
    "Month_grouped[\"Average number of delays\"] = Month_grouped[\"sum\"]/Month_grouped[\"count\"]"
   ]
  },
  {
   "cell_type": "code",
   "execution_count": 24,
   "metadata": {},
   "outputs": [],
   "source": [
    "#Month_grouped[\"Average number of delays\"]=df.groupby('Month')[\"ArrDel15\"].mean()"
   ]
  },
  {
   "cell_type": "code",
   "execution_count": 25,
   "metadata": {},
   "outputs": [
    {
     "data": {
      "image/png": "[encoded data removed]",
      "text/plain": [
       "<matplotlib.figure.Figure at 0x20c089a8a90>"
      ]
     },
     "metadata": {},
     "output_type": "display_data"
    }
   ],
   "source": [
    "sns.set_style('whitegrid')\n",
    "sns.barplot(x=Month_grouped.index, y ='Average number of delays', data=Month_grouped, color ='blue')\n",
    "plt.xlabel(\"Weekly distribution\")\n",
    "plt.ylabel(\"Average number of delays\")\n",
    "fig = plt.title(\"Weekly distribution of a month Vs Probability of Arrival Delay15\")"
   ]
  },
  {
   "cell_type": "markdown",
   "metadata": {},
   "source": [
    "The average number of delays appear to decrease towards the end of the month"
   ]
  },
  {
   "cell_type": "code",
   "execution_count": 26,
   "metadata": {},
   "outputs": [],
   "source": [
    "week_grouped1 = df.groupby('Week')[\"ArrDel15\"].sum()\n",
    "week_grouped2 = df.groupby('Week')[\"ArrDel15\"].count()\n",
    "week_grouped = pd.concat([week_grouped1, week_grouped2],axis=1, keys=[\"sum\", \"count\"])\n",
    "week_grouped[\"Probability of Arrival Delay15\"] = week_grouped[\"sum\"]/week_grouped[\"count\"]"
   ]
  },
  {
   "cell_type": "code",
   "execution_count": 27,
   "metadata": {},
   "outputs": [
    {
     "data": {
      "image/png": "[encoded data removed]",
      "text/plain": [
       "<matplotlib.figure.Figure at 0x20c08e0ee48>"
      ]
     },
     "metadata": {},
     "output_type": "display_data"
    }
   ],
   "source": [
    "sns.set_style('whitegrid')\n",
    "sns.barplot(x=week_grouped.index, y ='Probability of Arrival Delay15', data=week_grouped, color ='blue')\n",
    "plt.ylabel(\"Probability of Arrival Delay15\")\n",
    "fig = plt.title(\"Weekdays and Weekends Vs Probability of Arrival Delay15\")"
   ]
  },
  {
   "cell_type": "markdown",
   "metadata": {},
   "source": [
    "The average number of delays are less during weekdays compared to the weekend"
   ]
  },
  {
   "cell_type": "code",
   "execution_count": 28,
   "metadata": {},
   "outputs": [],
   "source": [
    "airport_grouped1 = df.groupby('Origin')[\"ArrDel15\"].sum()\n",
    "airport_grouped2 = df.groupby('Origin')[\"ArrDel15\"].count()\n",
    "airport_grouped = pd.concat([airport_grouped1, airport_grouped2],axis=1, keys=[\"sum\", \"count\"])\n",
    "airport_grouped[\"Probability of Arrival Delay15\"] = airport_grouped[\"sum\"]/airport_grouped[\"count\"]\n",
    "airport_grouped.sort_values(by = \"Probability of Arrival Delay15\", ascending = False, inplace = True)"
   ]
  },
  {
   "cell_type": "code",
   "execution_count": 29,
   "metadata": {},
   "outputs": [
    {
     "data": {
      "image/png": "[encoded data removed]",
      "text/plain": [
       "<matplotlib.figure.Figure at 0x20c08976518>"
      ]
     },
     "metadata": {},
     "output_type": "display_data"
    }
   ],
   "source": [
    "plt.figure(figsize = (8, 4))\n",
    "sns.set_style('whitegrid')\n",
    "sns.barplot(x=airport_grouped.index[:20], y = \"Probability of Arrival Delay15\", data=airport_grouped[:20], color ='blue')\n",
    "plt.xlabel(\"Origin Airport\")\n",
    "plt.ylabel(\"Probability of Arrival Delay15\")\n",
    "fig = plt.title(\"Origin Airport Vs Probability of Arrival Delay15\")"
   ]
  },
  {
   "cell_type": "code",
   "execution_count": 30,
   "metadata": {},
   "outputs": [],
   "source": [
    "airport_grouped3 = df.groupby('Dest')[\"ArrDel15\"].sum()\n",
    "airport_grouped4 = df.groupby('Dest')[\"ArrDel15\"].count()\n",
    "airport_grouped_dest = pd.concat([airport_grouped3, airport_grouped4],axis=1, keys=[\"sum\", \"count\"])\n",
    "airport_grouped_dest[\"Probability of Arrival Delay15\"] = airport_grouped_dest[\"sum\"]/airport_grouped_dest[\"count\"]\n",
    "airport_grouped_dest.sort_values(by = \"Probability of Arrival Delay15\", ascending = False, inplace = True)"
   ]
  },
  {
   "cell_type": "code",
   "execution_count": 31,
   "metadata": {},
   "outputs": [
    {
     "data": {
      "image/png": "[encoded data removed]",
      "text/plain": [
       "<matplotlib.figure.Figure at 0x20c08a34278>"
      ]
     },
     "metadata": {},
     "output_type": "display_data"
    }
   ],
   "source": [
    "plt.figure(figsize = (8, 4))\n",
    "sns.set_style('whitegrid')\n",
    "sns.barplot(x=airport_grouped_dest.index[:20], y ='Probability of Arrival Delay15', data=airport_grouped_dest[:20], color ='blue')\n",
    "plt.xlabel(\"Destination Airport\")\n",
    "plt.ylabel(\"Probability of Arrival Delay15\")\n",
    "fig = plt.title(\"Destination Airport Vs Probability of Arrival Delay15\")"
   ]
  },
  {
   "cell_type": "markdown",
   "metadata": {},
   "source": [
    "The Southwest Oregon Regional Airport (OTH) is the busiest airport with higher number of arrival delays"
   ]
  },
  {
   "cell_type": "markdown",
   "metadata": {},
   "source": [
    "A new column called flight route was created with origin airport and destination airport"
   ]
  },
  {
   "cell_type": "code",
   "execution_count": 32,
   "metadata": {},
   "outputs": [
    {
     "data": {
      "text/html": [
       "<div>\n",
       "<style scoped>\n",
       "    .dataframe tbody tr th:only-of-type {\n",
       "        vertical-align: middle;\n",
       "    }\n",
       "\n",
       "    .dataframe tbody tr th {\n",
       "        vertical-align: top;\n",
       "    }\n",
       "\n",
       "    .dataframe thead th {\n",
       "        text-align: right;\n",
       "    }\n",
       "</style>\n",
       "<table border=\"1\" class=\"dataframe\">\n",
       "  <thead>\n",
       "    <tr style=\"text-align: right;\">\n",
       "      <th></th>\n",
       "      <th>AirlineID</th>\n",
       "      <th>FlightNum</th>\n",
       "      <th>OriginAirportID</th>\n",
       "      <th>OriginAirportSeqID</th>\n",
       "      <th>OriginCityMarketID</th>\n",
       "      <th>OriginStateFips</th>\n",
       "      <th>OriginWac</th>\n",
       "      <th>DestAirportID</th>\n",
       "      <th>DestAirportSeqID</th>\n",
       "      <th>DestCityMarketID</th>\n",
       "      <th>...</th>\n",
       "      <th>ArrDel15</th>\n",
       "      <th>ArrivalDelayGroups</th>\n",
       "      <th>Cancelled</th>\n",
       "      <th>Diverted</th>\n",
       "      <th>CRSElapsedTime</th>\n",
       "      <th>ActualElapsedTime</th>\n",
       "      <th>AirTime</th>\n",
       "      <th>Distance</th>\n",
       "      <th>DistanceGroup</th>\n",
       "      <th>DivAirportLandings</th>\n",
       "    </tr>\n",
       "    <tr>\n",
       "      <th>Flight_route</th>\n",
       "      <th></th>\n",
       "      <th></th>\n",
       "      <th></th>\n",
       "      <th></th>\n",
       "      <th></th>\n",
       "      <th></th>\n",
       "      <th></th>\n",
       "      <th></th>\n",
       "      <th></th>\n",
       "      <th></th>\n",
       "      <th></th>\n",
       "      <th></th>\n",
       "      <th></th>\n",
       "      <th></th>\n",
       "      <th></th>\n",
       "      <th></th>\n",
       "      <th></th>\n",
       "      <th></th>\n",
       "      <th></th>\n",
       "      <th></th>\n",
       "      <th></th>\n",
       "    </tr>\n",
       "  </thead>\n",
       "  <tbody>\n",
       "    <tr>\n",
       "      <th>LAX to SFO</th>\n",
       "      <td>28489647</td>\n",
       "      <td>2524880</td>\n",
       "      <td>18280856</td>\n",
       "      <td>1828089854</td>\n",
       "      <td>46191350</td>\n",
       "      <td>8508</td>\n",
       "      <td>129038</td>\n",
       "      <td>20945278</td>\n",
       "      <td>2094530636</td>\n",
       "      <td>46024026</td>\n",
       "      <td>...</td>\n",
       "      <td>510.0</td>\n",
       "      <td>1136.0</td>\n",
       "      <td>37.0</td>\n",
       "      <td>1.0</td>\n",
       "      <td>117840.0</td>\n",
       "      <td>115631.0</td>\n",
       "      <td>79669.0</td>\n",
       "      <td>477866.0</td>\n",
       "      <td>2836</td>\n",
       "      <td>1</td>\n",
       "    </tr>\n",
       "    <tr>\n",
       "      <th>SFO to LAX</th>\n",
       "      <td>29136143</td>\n",
       "      <td>2862386</td>\n",
       "      <td>21417950</td>\n",
       "      <td>2141797900</td>\n",
       "      <td>47062650</td>\n",
       "      <td>8700</td>\n",
       "      <td>131950</td>\n",
       "      <td>18693400</td>\n",
       "      <td>1869344350</td>\n",
       "      <td>47233750</td>\n",
       "      <td>...</td>\n",
       "      <td>424.0</td>\n",
       "      <td>760.0</td>\n",
       "      <td>35.0</td>\n",
       "      <td>0.0</td>\n",
       "      <td>123411.0</td>\n",
       "      <td>121610.0</td>\n",
       "      <td>77213.0</td>\n",
       "      <td>488650.0</td>\n",
       "      <td>2900</td>\n",
       "      <td>0</td>\n",
       "    </tr>\n",
       "  </tbody>\n",
       "</table>\n",
       "<p>2 rows × 36 columns</p>\n",
       "</div>"
      ],
      "text/plain": [
       "              AirlineID  FlightNum  OriginAirportID  OriginAirportSeqID  \\\n",
       "Flight_route                                                              \n",
       "LAX to SFO     28489647    2524880         18280856          1828089854   \n",
       "SFO to LAX     29136143    2862386         21417950          2141797900   \n",
       "\n",
       "              OriginCityMarketID  OriginStateFips  OriginWac  DestAirportID  \\\n",
       "Flight_route                                                                  \n",
       "LAX to SFO              46191350             8508     129038       20945278   \n",
       "SFO to LAX              47062650             8700     131950       18693400   \n",
       "\n",
       "              DestAirportSeqID  DestCityMarketID         ...          \\\n",
       "Flight_route                                             ...           \n",
       "LAX to SFO          2094530636          46024026         ...           \n",
       "SFO to LAX          1869344350          47233750         ...           \n",
       "\n",
       "              ArrDel15  ArrivalDelayGroups  Cancelled  Diverted  \\\n",
       "Flight_route                                                      \n",
       "LAX to SFO       510.0              1136.0       37.0       1.0   \n",
       "SFO to LAX       424.0               760.0       35.0       0.0   \n",
       "\n",
       "              CRSElapsedTime  ActualElapsedTime  AirTime  Distance  \\\n",
       "Flight_route                                                         \n",
       "LAX to SFO          117840.0           115631.0  79669.0  477866.0   \n",
       "SFO to LAX          123411.0           121610.0  77213.0  488650.0   \n",
       "\n",
       "              DistanceGroup  DivAirportLandings  \n",
       "Flight_route                                     \n",
       "LAX to SFO             2836                   1  \n",
       "SFO to LAX             2900                   0  \n",
       "\n",
       "[2 rows x 36 columns]"
      ]
     },
     "execution_count": 32,
     "metadata": {},
     "output_type": "execute_result"
    }
   ],
   "source": [
    "df[\"Flight_route\"] = df[\"Origin\"] + \" to \" + df[\"Dest\"]\n",
    "flightroute = df.groupby('Flight_route').sum()\n",
    "flightroute.sort_values(by = \"ArrDel15\", axis = 0, ascending = False, inplace = True)\n",
    "flightroute.head(2)"
   ]
  },
  {
   "cell_type": "code",
   "execution_count": 33,
   "metadata": {},
   "outputs": [
    {
     "data": {
      "text/plain": [
       "3995"
      ]
     },
     "execution_count": 33,
     "metadata": {},
     "output_type": "execute_result"
    }
   ],
   "source": [
    "df[\"Flight_route\"].nunique()"
   ]
  },
  {
   "cell_type": "code",
   "execution_count": 34,
   "metadata": {},
   "outputs": [
    {
     "data": {
      "image/png": "[encoded data removed]",
      "text/plain": [
       "<matplotlib.figure.Figure at 0x20c085d52b0>"
      ]
     },
     "metadata": {},
     "output_type": "display_data"
    }
   ],
   "source": [
    "plt.figure(figsize = (10, 8))\n",
    "sns.set_style('whitegrid')\n",
    "fig = sns.barplot(x=flightroute.index[:10], y = \"ArrDel15\", data=flightroute[:10], color ='blue')\n",
    "fig.set(xlabel = 'Flight routes', ylabel = 'Probability of Arrival Delay15')\n",
    "fig = plt.title(\"Flight routes Vs Probability of Arrival Delay15\")"
   ]
  },
  {
   "cell_type": "markdown",
   "metadata": {},
   "source": [
    "The plot above shows the top 10 flight routes with higher number of arrival delays. So it is important to include distance and airtime columns in this analysis to determine whether they play a major role in predicting flight arrivals"
   ]
  },
  {
   "cell_type": "code",
   "execution_count": 35,
   "metadata": {},
   "outputs": [],
   "source": [
    "# Splitting Departure time and Arrival time columns into 3 categories : Morning, Afternoon, Evening\n",
    "def impute_time(cols):\n",
    "    if cols >= 600 and cols < 1200:\n",
    "        return \"Morning\"\n",
    "    elif cols >= 1200 and cols < 1600:\n",
    "        return \"Afternoon\"\n",
    "    else:\n",
    "        return \"Evening\""
   ]
  },
  {
   "cell_type": "code",
   "execution_count": 36,
   "metadata": {},
   "outputs": [],
   "source": [
    "df['Arrival_Time'] = df[\"CRSArrTime\"].apply(impute_time)\n",
    "df.drop(\"CRSArrTime\", axis = 1, inplace = True)\n",
    "\n",
    "df['Departure_Time'] = df[\"CRSDepTime\"].apply(impute_time)\n",
    "df.drop(\"CRSDepTime\", axis = 1, inplace = True)"
   ]
  },
  {
   "cell_type": "code",
   "execution_count": 37,
   "metadata": {},
   "outputs": [],
   "source": [
    "arrtime_grouped = df.groupby('Arrival_Time').mean()\n",
    "deptime_grouped = df.groupby('Departure_Time').mean()"
   ]
  },
  {
   "cell_type": "code",
   "execution_count": 38,
   "metadata": {},
   "outputs": [
    {
     "data": {
      "image/png": "[encoded data removed]",
      "text/plain": [
       "<matplotlib.figure.Figure at 0x20c089939e8>"
      ]
     },
     "metadata": {},
     "output_type": "display_data"
    }
   ],
   "source": [
    "sns.set_style('whitegrid')\n",
    "sns.barplot(x=arrtime_grouped.index, y =\"ArrDel15\", data=arrtime_grouped, color ='green')\n",
    "fig = plt.title(\"Arrival_time Vs Probability of Arrival Delay15\")"
   ]
  },
  {
   "cell_type": "markdown",
   "metadata": {},
   "source": [
    "The arrival flights appears to have more delays in the evening time"
   ]
  },
  {
   "cell_type": "code",
   "execution_count": 39,
   "metadata": {},
   "outputs": [
    {
     "data": {
      "image/png": "[encoded data removed]",
      "text/plain": [
       "<matplotlib.figure.Figure at 0x20c0ef57ef0>"
      ]
     },
     "metadata": {},
     "output_type": "display_data"
    }
   ],
   "source": [
    "sns.set_style('whitegrid')\n",
    "sns.barplot(x=deptime_grouped.index, y =\"ArrDel15\", data=arrtime_grouped, color ='green')\n",
    "fig = plt.title(\"Departure_time Vs Probability of Arrival Delay15\")"
   ]
  },
  {
   "cell_type": "markdown",
   "metadata": {},
   "source": [
    "the departer flights appears to have more delays in the evening time"
   ]
  },
  {
   "cell_type": "code",
   "execution_count": 40,
   "metadata": {},
   "outputs": [],
   "source": [
    "# dropping columns which do not hold any useful data and columns that contain repeated information\n",
    "df_clean = df.drop(['FlightDate', 'AirlineID', 'Carrier', 'TailNum',\n",
    "       'FlightNum', 'OriginAirportID', 'OriginAirportSeqID',\n",
    "       'OriginCityMarketID', 'OriginCityName', 'OriginState',\n",
    "       'OriginStateFips', 'OriginStateName', 'OriginWac', 'DestAirportID',\n",
    "       'DestAirportSeqID', 'DestCityMarketID', 'Dest', 'DestCityName',\n",
    "       'DestState', 'DestStateFips', 'DestStateName', 'DestWac',\n",
    "       'DepTime', 'DepDelay', 'DepDelayMinutes', 'DepDel15',\n",
    "       'DepartureDelayGroups', 'DepTimeBlk', 'WheelsOff',\n",
    "       'WheelsOn', 'ArrTime', 'ArrDelay', 'ArrDelayMinutes', 'ArrivalDelayGroups', 'ArrTimeBlk', 'Cancelled', 'Diverted',\n",
    "       'CRSElapsedTime', 'ActualElapsedTime',\n",
    "       'DistanceGroup', 'DivAirportLandings', 'Flight_route', 'Departure_Time'], axis = 1)"
   ]
  },
  {
   "cell_type": "code",
   "execution_count": 41,
   "metadata": {},
   "outputs": [
    {
     "data": {
      "text/plain": [
       "(445827, 10)"
      ]
     },
     "execution_count": 41,
     "metadata": {},
     "output_type": "execute_result"
    }
   ],
   "source": [
    "df_clean.shape"
   ]
  },
  {
   "cell_type": "code",
   "execution_count": 42,
   "metadata": {},
   "outputs": [
    {
     "data": {
      "text/plain": [
       "UniqueCarrier        0\n",
       "Origin               0\n",
       "TaxiOut          11600\n",
       "TaxiIn           11907\n",
       "ArrDel15         12529\n",
       "AirTime          12529\n",
       "Distance             0\n",
       "Month                0\n",
       "Week                 0\n",
       "Arrival_Time         0\n",
       "dtype: int64"
      ]
     },
     "execution_count": 42,
     "metadata": {},
     "output_type": "execute_result"
    }
   ],
   "source": [
    "df_clean.isnull().sum()"
   ]
  },
  {
   "cell_type": "code",
   "execution_count": 43,
   "metadata": {},
   "outputs": [],
   "source": [
    "# Dropping missing records\n",
    "df_clean.dropna(axis = 0, inplace = True)"
   ]
  },
  {
   "cell_type": "code",
   "execution_count": 44,
   "metadata": {},
   "outputs": [
    {
     "data": {
      "text/plain": [
       "(433298, 10)"
      ]
     },
     "execution_count": 44,
     "metadata": {},
     "output_type": "execute_result"
    }
   ],
   "source": [
    "df_clean.shape"
   ]
  },
  {
   "cell_type": "markdown",
   "metadata": {},
   "source": [
    "Upto 3% of values are missing in some of the columns. Hence the missing rows were dropped from the analysis instead of imputing these columns with its respective most frequent value"
   ]
  },
  {
   "cell_type": "code",
   "execution_count": 45,
   "metadata": {},
   "outputs": [
    {
     "data": {
      "text/plain": [
       "UniqueCarrier    0\n",
       "Origin           0\n",
       "TaxiOut          0\n",
       "TaxiIn           0\n",
       "ArrDel15         0\n",
       "AirTime          0\n",
       "Distance         0\n",
       "Month            0\n",
       "Week             0\n",
       "Arrival_Time     0\n",
       "dtype: int64"
      ]
     },
     "execution_count": 45,
     "metadata": {},
     "output_type": "execute_result"
    }
   ],
   "source": [
    "df_clean.isnull().sum()"
   ]
  },
  {
   "cell_type": "code",
   "execution_count": 46,
   "metadata": {},
   "outputs": [],
   "source": [
    "check_cor = df_clean[cols]"
   ]
  },
  {
   "cell_type": "code",
   "execution_count": 47,
   "metadata": {},
   "outputs": [
    {
     "name": "stdout",
     "output_type": "stream",
     "text": [
      "Correlation Matrix\n",
      "           TaxiOut    TaxiIn   AirTime  Distance\n",
      "TaxiOut   1.000000  0.007479  0.049890  0.037180\n",
      "TaxiIn    0.007479  1.000000  0.101871  0.096430\n",
      "AirTime   0.049890  0.101871  1.000000  0.982208\n",
      "Distance  0.037180  0.096430  0.982208  1.000000\n",
      "##############\n",
      "Top Absolute Correlations\n",
      "AirTime  Distance    0.982208\n",
      "TaxiIn   AirTime     0.101871\n",
      "dtype: float64\n"
     ]
    }
   ],
   "source": [
    "# Calculating correlations between independent variables\n",
    "print(\"Correlation Matrix\")\n",
    "print(check_cor.corr())\n",
    "print(\"##############\")\n",
    "\n",
    "def get_pairs(df):\n",
    "    ## Get diagonal and lower triangular pairs of correlation matrix\n",
    "    pairs_to_drop = set()\n",
    "    cols = df.columns\n",
    "    for i in range(0, df.shape[1]):\n",
    "        for j in range(0, i+1):\n",
    "            pairs_to_drop.add((cols[i], cols[j]))\n",
    "    return pairs_to_drop\n",
    "\n",
    "def get_top_abs_correlations(df, n=5):\n",
    "    cal_corr = df.corr().abs().unstack()\n",
    "    labels_to_drop = get_pairs(df)\n",
    "    cal_corr = cal_corr.drop(labels=labels_to_drop).sort_values(ascending=False)\n",
    "    return cal_corr[0:n]\n",
    " \n",
    "print(\"Top Absolute Correlations\")\n",
    "print(get_top_abs_correlations(check_cor, 2))"
   ]
  },
  {
   "cell_type": "markdown",
   "metadata": {},
   "source": [
    "There is high correlation between distance and airtime, hence dropping the column airtime from the analysis"
   ]
  },
  {
   "cell_type": "code",
   "execution_count": 48,
   "metadata": {},
   "outputs": [],
   "source": [
    "df_clean.drop([\"AirTime\"], axis = 1, inplace = True)"
   ]
  },
  {
   "cell_type": "code",
   "execution_count": 49,
   "metadata": {},
   "outputs": [
    {
     "data": {
      "text/plain": [
       "Index(['UniqueCarrier', 'Origin', 'TaxiOut', 'TaxiIn', 'ArrDel15', 'Distance',\n",
       "       'Month', 'Week', 'Arrival_Time'],\n",
       "      dtype='object')"
      ]
     },
     "execution_count": 49,
     "metadata": {},
     "output_type": "execute_result"
    }
   ],
   "source": [
    "df_clean.columns"
   ]
  },
  {
   "cell_type": "code",
   "execution_count": 50,
   "metadata": {},
   "outputs": [],
   "source": [
    "indicator_var = pd.DataFrame()\n",
    "categories = ['UniqueCarrier', 'Origin', 'Month', 'Week', 'Arrival_Time']"
   ]
  },
  {
   "cell_type": "markdown",
   "metadata": {},
   "source": [
    "The categorical variables above are transformed into dummy variables using pd.get_dummies and the first category in each column was dropped from the analysis to prevent multicollinearity"
   ]
  },
  {
   "cell_type": "code",
   "execution_count": 51,
   "metadata": {},
   "outputs": [],
   "source": [
    "for i in categories:\n",
    "    x = pd.get_dummies(df_clean[i],drop_first=True)\n",
    "    indicator_var = pd.concat([indicator_var, x],axis=1)"
   ]
  },
  {
   "cell_type": "code",
   "execution_count": 52,
   "metadata": {},
   "outputs": [],
   "source": [
    "df_clean.drop(['UniqueCarrier', 'Origin','Month', 'Week', \"Arrival_Time\"], axis = 1, inplace = True)"
   ]
  },
  {
   "cell_type": "markdown",
   "metadata": {},
   "source": [
    "At this point we completed investigating the entire dataset and worked seperately on continuous and categorical variables. Now, its time to merge both kinds of variables"
   ]
  },
  {
   "cell_type": "code",
   "execution_count": 53,
   "metadata": {},
   "outputs": [],
   "source": [
    "# The dataframes with categorical and quantitative are concatenated to get the final data frame to run binary classifiers\n",
    "final_data = pd.concat([indicator_var, df_clean],axis=1)"
   ]
  },
  {
   "cell_type": "code",
   "execution_count": 54,
   "metadata": {},
   "outputs": [
    {
     "name": "stdout",
     "output_type": "stream",
     "text": [
      "The final number of rows used in the classification:  433298\n",
      "The final number of columns used in the classification:  315\n"
     ]
    }
   ],
   "source": [
    "print (\"The final number of rows used in the classification: \", len(final_data)) # Rows Count\n",
    "print (\"The final number of columns used in the classification: \",(final_data.shape[1])) # Columns Count"
   ]
  },
  {
   "cell_type": "code",
   "execution_count": 55,
   "metadata": {},
   "outputs": [],
   "source": [
    "#df_x=final_data.loc[:,final_data.columns!='ArrDell15']\n",
    "#df_y=final_data.loc[:,final_data.columns=='ArrDell15']"
   ]
  },
  {
   "cell_type": "code",
   "execution_count": 56,
   "metadata": {},
   "outputs": [],
   "source": [
    "# Separate features from labels\n",
    "features = []\n",
    "for i in final_data.columns:\n",
    "    if i != \"ArrDel15\":\n",
    "        features.append(i)\n",
    "      "
   ]
  },
  {
   "cell_type": "code",
   "execution_count": 57,
   "metadata": {},
   "outputs": [
    {
     "data": {
      "text/plain": [
       "314"
      ]
     },
     "execution_count": 57,
     "metadata": {},
     "output_type": "execute_result"
    }
   ],
   "source": [
    "len(features)"
   ]
  },
  {
   "cell_type": "code",
   "execution_count": 58,
   "metadata": {},
   "outputs": [
    {
     "data": {
      "text/plain": [
       "0.0    362416\n",
       "1.0     70882\n",
       "Name: ArrDel15, dtype: int64"
      ]
     },
     "execution_count": 58,
     "metadata": {},
     "output_type": "execute_result"
    }
   ],
   "source": [
    "final_data[\"ArrDel15\"].value_counts()"
   ]
  },
  {
   "cell_type": "code",
   "execution_count": 59,
   "metadata": {},
   "outputs": [
    {
     "data": {
      "text/plain": [
       "0.0    0.836413\n",
       "1.0    0.163587\n",
       "Name: ArrDel15, dtype: float64"
      ]
     },
     "execution_count": 59,
     "metadata": {},
     "output_type": "execute_result"
    }
   ],
   "source": [
    "final_data[\"ArrDel15\"].value_counts(normalize=True)"
   ]
  },
  {
   "cell_type": "code",
   "execution_count": 60,
   "metadata": {},
   "outputs": [],
   "source": [
    "from sklearn.model_selection import train_test_split\n",
    "from sklearn.model_selection import GridSearchCV\n",
    "from sklearn.tree import DecisionTreeClassifier\n",
    "from sklearn. ensemble import RandomForestClassifier, BaggingClassifier, AdaBoostClassifier, VotingClassifier\n",
    "from sklearn.neural_network import MLPClassifier\n",
    "from sklearn.linear_model import LogisticRegression\n",
    "from sklearn.metrics import roc_auc_score\n",
    "from sklearn.svm import SVC\n",
    "from sklearn.metrics import confusion_matrix\n",
    "from sklearn.metrics import classification_report"
   ]
  },
  {
   "cell_type": "code",
   "execution_count": 61,
   "metadata": {},
   "outputs": [
    {
     "name": "stderr",
     "output_type": "stream",
     "text": [
      "c:\\users\\hp\\appdata\\local\\conda\\conda\\envs\\cv-nd\\lib\\site-packages\\sklearn\\model_selection\\_split.py:2026: FutureWarning: From version 0.21, test_size will always complement train_size unless both are specified.\n",
      "  FutureWarning)\n"
     ]
    }
   ],
   "source": [
    "\n",
    "x_train,x_test,y_train,y_test  = train_test_split(final_data[features],final_data['ArrDel15'], train_size=0.7, random_state=4)\n"
   ]
  },
  {
   "cell_type": "code",
   "execution_count": 62,
   "metadata": {},
   "outputs": [],
   "source": [
    "def classify(clf, param, x = x_train, y = y_train, cv=5):\n",
    "    gs = GridSearchCV(clf, param_grid=param)\n",
    "    gs.fit(x, y)\n",
    "    best = gs.best_estimator_\n",
    "    return print(best)"
   ]
  },
  {
   "cell_type": "code",
   "execution_count": 63,
   "metadata": {},
   "outputs": [],
   "source": [
    "def model_evaluation_report(clf):\n",
    "    classify(clf,param)\n",
    "    clf.fit(x_train,y_train)\n",
    "    prob_y = [p[1] for p in clf.predict_proba(x_test) ]\n",
    "    print(\"######### Accuracy #########\")\n",
    "    print(\"train_acc:\",clf.score(x_train,y_train))\n",
    "    print(\"test_acc:\",clf.score(x_test,y_test))\n",
    "    print('########## confusion matrix ###########')\n",
    "    print (confusion_matrix(y_test, clf.predict(x_test)))\n",
    "    print('######## Classification report ##########')\n",
    "    print (classification_report(y_test,clf.predict(x_test)))\n",
    "    print (\"########## Area under the curve ########\")\n",
    "    print( roc_auc_score(y_test, prob_y) )\n",
    "    \n",
    "    return (\"done\")"
   ]
  },
  {
   "cell_type": "code",
   "execution_count": 64,
   "metadata": {},
   "outputs": [
    {
     "name": "stdout",
     "output_type": "stream",
     "text": [
      "DecisionTreeClassifier(class_weight=None, criterion='gini', max_depth=9,\n",
      "            max_features=None, max_leaf_nodes=None,\n",
      "            min_impurity_decrease=0.0, min_impurity_split=None,\n",
      "            min_samples_leaf=1, min_samples_split=2,\n",
      "            min_weight_fraction_leaf=0.0, presort=False, random_state=None,\n",
      "            splitter='best')\n",
      "######### Accuracy #########\n",
      "train_acc: 0.9950743138987432\n",
      "test_acc: 0.7750057696745903\n",
      "########## confusion matrix ###########\n",
      "[[93667 15202]\n",
      " [14045  7076]]\n",
      "######## Classification report ##########\n",
      "             precision    recall  f1-score   support\n",
      "\n",
      "        0.0       0.87      0.86      0.86    108869\n",
      "        1.0       0.32      0.34      0.33     21121\n",
      "\n",
      "avg / total       0.78      0.78      0.78    129990\n",
      "\n",
      "########## Area under the curve ########\n",
      "0.5982196557940522\n"
     ]
    },
    {
     "data": {
      "text/plain": [
       "'done'"
      ]
     },
     "execution_count": 64,
     "metadata": {},
     "output_type": "execute_result"
    }
   ],
   "source": [
    "#descision tree\n",
    "dt = DecisionTreeClassifier()\n",
    "param = {\"max_depth\": list(range(1,10,1))}\n",
    "model_evaluation_report(dt)"
   ]
  },
  {
   "cell_type": "code",
   "execution_count": 65,
   "metadata": {},
   "outputs": [
    {
     "name": "stdout",
     "output_type": "stream",
     "text": [
      "DecisionTreeClassifier(class_weight=None, criterion='entropy', max_depth=9,\n",
      "            max_features=None, max_leaf_nodes=None,\n",
      "            min_impurity_decrease=0.0, min_impurity_split=None,\n",
      "            min_samples_leaf=1, min_samples_split=2,\n",
      "            min_weight_fraction_leaf=0.0, presort=False, random_state=None,\n",
      "            splitter='best')\n",
      "######### Accuracy #########\n",
      "train_acc: 0.9950743138987432\n",
      "test_acc: 0.7748288329871529\n",
      "########## confusion matrix ###########\n",
      "[[93660 15209]\n",
      " [14061  7060]]\n",
      "######## Classification report ##########\n",
      "             precision    recall  f1-score   support\n",
      "\n",
      "        0.0       0.87      0.86      0.86    108869\n",
      "        1.0       0.32      0.33      0.33     21121\n",
      "\n",
      "avg / total       0.78      0.77      0.78    129990\n",
      "\n",
      "########## Area under the curve ########\n",
      "0.5979687610202279\n"
     ]
    },
    {
     "data": {
      "text/plain": [
       "'done'"
      ]
     },
     "execution_count": 65,
     "metadata": {},
     "output_type": "execute_result"
    }
   ],
   "source": [
    "# Changing split criterion to entropy and re-running the decision tree\n",
    "dt_entropy = DecisionTreeClassifier()\n",
    "param = {\"criterion\": ['entropy'],  \"max_depth\": list(range(1,10,1))}\n",
    "model_evaluation_report(dt_entropy)"
   ]
  },
  {
   "cell_type": "code",
   "execution_count": 66,
   "metadata": {},
   "outputs": [
    {
     "name": "stdout",
     "output_type": "stream",
     "text": [
      "RandomForestClassifier(bootstrap=True, class_weight=None, criterion='gini',\n",
      "            max_depth=None, max_features='auto', max_leaf_nodes=None,\n",
      "            min_impurity_decrease=0.0, min_impurity_split=None,\n",
      "            min_samples_leaf=1, min_samples_split=2,\n",
      "            min_weight_fraction_leaf=0.0, n_estimators=8, n_jobs=1,\n",
      "            oob_score=False, random_state=None, verbose=0,\n",
      "            warm_start=False)\n",
      "######### Accuracy #########\n",
      "train_acc: 0.975595764041832\n",
      "test_acc: 0.8383106392799446\n",
      "########## confusion matrix ###########\n",
      "[[104173   4696]\n",
      " [ 16322   4799]]\n",
      "######## Classification report ##########\n",
      "             precision    recall  f1-score   support\n",
      "\n",
      "        0.0       0.86      0.96      0.91    108869\n",
      "        1.0       0.51      0.23      0.31     21121\n",
      "\n",
      "avg / total       0.81      0.84      0.81    129990\n",
      "\n",
      "########## Area under the curve ########\n",
      "0.6927945795828725\n"
     ]
    },
    {
     "data": {
      "text/plain": [
       "'done'"
      ]
     },
     "execution_count": 66,
     "metadata": {},
     "output_type": "execute_result"
    }
   ],
   "source": [
    "rf = RandomForestClassifier()\n",
    "param = {\"n_estimators\": list(range(1,10,1))}\n",
    "model_evaluation_report(rf)"
   ]
  },
  {
   "cell_type": "code",
   "execution_count": 67,
   "metadata": {},
   "outputs": [
    {
     "name": "stdout",
     "output_type": "stream",
     "text": [
      "RandomForestClassifier(bootstrap=True, class_weight=None, criterion='entropy',\n",
      "            max_depth=None, max_features='auto', max_leaf_nodes=None,\n",
      "            min_impurity_decrease=0.0, min_impurity_split=None,\n",
      "            min_samples_leaf=1, min_samples_split=2,\n",
      "            min_weight_fraction_leaf=0.0, n_estimators=8, n_jobs=1,\n",
      "            oob_score=False, random_state=None, verbose=0,\n",
      "            warm_start=False)\n",
      "######### Accuracy #########\n",
      "train_acc: 0.9756452187215635\n",
      "test_acc: 0.8389568428340641\n",
      "########## confusion matrix ###########\n",
      "[[104363   4506]\n",
      " [ 16428   4693]]\n",
      "######## Classification report ##########\n",
      "             precision    recall  f1-score   support\n",
      "\n",
      "        0.0       0.86      0.96      0.91    108869\n",
      "        1.0       0.51      0.22      0.31     21121\n",
      "\n",
      "avg / total       0.81      0.84      0.81    129990\n",
      "\n",
      "########## Area under the curve ########\n",
      "0.6931074734115732\n"
     ]
    },
    {
     "data": {
      "text/plain": [
       "'done'"
      ]
     },
     "execution_count": 67,
     "metadata": {},
     "output_type": "execute_result"
    }
   ],
   "source": [
    "rf_entropy = RandomForestClassifier()\n",
    "param = {\"criterion\": ['entropy'], \"n_estimators\": list(range(1,10,1))}\n",
    "model_evaluation_report(rf_entropy)"
   ]
  },
  {
   "cell_type": "code",
   "execution_count": 68,
   "metadata": {},
   "outputs": [
    {
     "data": {
      "text/html": [
       "<div>\n",
       "<style scoped>\n",
       "    .dataframe tbody tr th:only-of-type {\n",
       "        vertical-align: middle;\n",
       "    }\n",
       "\n",
       "    .dataframe tbody tr th {\n",
       "        vertical-align: top;\n",
       "    }\n",
       "\n",
       "    .dataframe thead th {\n",
       "        text-align: right;\n",
       "    }\n",
       "</style>\n",
       "<table border=\"1\" class=\"dataframe\">\n",
       "  <thead>\n",
       "    <tr style=\"text-align: right;\">\n",
       "      <th></th>\n",
       "      <th>features</th>\n",
       "      <th>importance</th>\n",
       "    </tr>\n",
       "  </thead>\n",
       "  <tbody>\n",
       "    <tr>\n",
       "      <th>311</th>\n",
       "      <td>TaxiOut</td>\n",
       "      <td>0.301269</td>\n",
       "    </tr>\n",
       "    <tr>\n",
       "      <th>313</th>\n",
       "      <td>Distance</td>\n",
       "      <td>0.226443</td>\n",
       "    </tr>\n",
       "    <tr>\n",
       "      <th>312</th>\n",
       "      <td>TaxiIn</td>\n",
       "      <td>0.200076</td>\n",
       "    </tr>\n",
       "    <tr>\n",
       "      <th>308</th>\n",
       "      <td>Weekend</td>\n",
       "      <td>0.017663</td>\n",
       "    </tr>\n",
       "    <tr>\n",
       "      <th>304</th>\n",
       "      <td>weekII</td>\n",
       "      <td>0.015823</td>\n",
       "    </tr>\n",
       "    <tr>\n",
       "      <th>305</th>\n",
       "      <td>weekIII</td>\n",
       "      <td>0.012712</td>\n",
       "    </tr>\n",
       "    <tr>\n",
       "      <th>309</th>\n",
       "      <td>Evening</td>\n",
       "      <td>0.012452</td>\n",
       "    </tr>\n",
       "    <tr>\n",
       "      <th>306</th>\n",
       "      <td>weekIV</td>\n",
       "      <td>0.009291</td>\n",
       "    </tr>\n",
       "    <tr>\n",
       "      <th>310</th>\n",
       "      <td>Morning</td>\n",
       "      <td>0.009056</td>\n",
       "    </tr>\n",
       "    <tr>\n",
       "      <th>307</th>\n",
       "      <td>weekV</td>\n",
       "      <td>0.006132</td>\n",
       "    </tr>\n",
       "    <tr>\n",
       "      <th>1</th>\n",
       "      <td>B6</td>\n",
       "      <td>0.005834</td>\n",
       "    </tr>\n",
       "    <tr>\n",
       "      <th>10</th>\n",
       "      <td>WN</td>\n",
       "      <td>0.005654</td>\n",
       "    </tr>\n",
       "    <tr>\n",
       "      <th>2</th>\n",
       "      <td>DL</td>\n",
       "      <td>0.004921</td>\n",
       "    </tr>\n",
       "    <tr>\n",
       "      <th>8</th>\n",
       "      <td>UA</td>\n",
       "      <td>0.004786</td>\n",
       "    </tr>\n",
       "    <tr>\n",
       "      <th>6</th>\n",
       "      <td>NK</td>\n",
       "      <td>0.004118</td>\n",
       "    </tr>\n",
       "    <tr>\n",
       "      <th>218</th>\n",
       "      <td>ORD</td>\n",
       "      <td>0.003714</td>\n",
       "    </tr>\n",
       "    <tr>\n",
       "      <th>3</th>\n",
       "      <td>EV</td>\n",
       "      <td>0.003668</td>\n",
       "    </tr>\n",
       "    <tr>\n",
       "      <th>168</th>\n",
       "      <td>LAX</td>\n",
       "      <td>0.003638</td>\n",
       "    </tr>\n",
       "    <tr>\n",
       "      <th>7</th>\n",
       "      <td>OO</td>\n",
       "      <td>0.003611</td>\n",
       "    </tr>\n",
       "    <tr>\n",
       "      <th>174</th>\n",
       "      <td>LGA</td>\n",
       "      <td>0.003536</td>\n",
       "    </tr>\n",
       "  </tbody>\n",
       "</table>\n",
       "</div>"
      ],
      "text/plain": [
       "     features  importance\n",
       "311   TaxiOut    0.301269\n",
       "313  Distance    0.226443\n",
       "312    TaxiIn    0.200076\n",
       "308   Weekend    0.017663\n",
       "304    weekII    0.015823\n",
       "305   weekIII    0.012712\n",
       "309   Evening    0.012452\n",
       "306    weekIV    0.009291\n",
       "310   Morning    0.009056\n",
       "307     weekV    0.006132\n",
       "1          B6    0.005834\n",
       "10         WN    0.005654\n",
       "2          DL    0.004921\n",
       "8          UA    0.004786\n",
       "6          NK    0.004118\n",
       "218       ORD    0.003714\n",
       "3          EV    0.003668\n",
       "168       LAX    0.003638\n",
       "7          OO    0.003611\n",
       "174       LGA    0.003536"
      ]
     },
     "execution_count": 68,
     "metadata": {},
     "output_type": "execute_result"
    }
   ],
   "source": [
    "importance_features = list(zip(features, rf.feature_importances_))\n",
    "importance_features = pd.DataFrame(importance_features, columns = [\"features\", \"importance\"])\n",
    "importance_features.sort_values(by = [\"importance\"], ascending = False, inplace = True)\n",
    "importance_features[:20]\n"
   ]
  },
  {
   "cell_type": "markdown",
   "metadata": {},
   "source": [
    "### Balancing Data"
   ]
  },
  {
   "cell_type": "code",
   "execution_count": 69,
   "metadata": {},
   "outputs": [
    {
     "data": {
      "text/plain": [
       "216649.0"
      ]
     },
     "execution_count": 69,
     "metadata": {},
     "output_type": "execute_result"
    }
   ],
   "source": [
    "df = final_data\n",
    "treshold = df.ArrDel15.value_counts().mean()\n",
    "treshold\n"
   ]
  },
  {
   "cell_type": "code",
   "execution_count": 70,
   "metadata": {},
   "outputs": [
    {
     "data": {
      "text/plain": [
       "0.0    216649\n",
       "1.0    216649\n",
       "Name: ArrDel15, dtype: int64"
      ]
     },
     "execution_count": 70,
     "metadata": {},
     "output_type": "execute_result"
    }
   ],
   "source": [
    "# Separate majority and minority classes\n",
    "df_ontime = df[df.ArrDel15==0]\n",
    "df_delayed = df[df.ArrDel15==1]\n",
    "\n",
    "# downsample ontime class\n",
    "from sklearn.utils import resample\n",
    "df_ontime_downsampled = resample(df_ontime, \n",
    "                                 replace=False,       # sample with replacement\n",
    "                                 n_samples= 216649, # to match treshold\n",
    "                                random_state = 100)  \n",
    "\n",
    "# upsample delayed class\n",
    "df_delayed_upsampled= resample(df_delayed, \n",
    "                                 replace=True,       # sample with replacement\n",
    "                                 n_samples= 216649, # to match treshold\n",
    "                                random_state = 100) \n",
    "                                 \n",
    "# Combine majority class with upsampled minority class\n",
    "df_balanced = pd.concat([df_delayed_upsampled,df_ontime_downsampled ])\n",
    "df_balanced.ArrDel15.value_counts()"
   ]
  },
  {
   "cell_type": "code",
   "execution_count": 71,
   "metadata": {},
   "outputs": [
    {
     "name": "stderr",
     "output_type": "stream",
     "text": [
      "c:\\users\\hp\\appdata\\local\\conda\\conda\\envs\\cv-nd\\lib\\site-packages\\sklearn\\model_selection\\_split.py:2026: FutureWarning: From version 0.21, test_size will always complement train_size unless both are specified.\n",
      "  FutureWarning)\n"
     ]
    }
   ],
   "source": [
    "x_train,x_test,y_train,y_test = train_test_split(df_balanced[features],df_balanced['ArrDel15'], train_size=0.7, random_state=4)\n"
   ]
  },
  {
   "cell_type": "code",
   "execution_count": 72,
   "metadata": {},
   "outputs": [
    {
     "name": "stdout",
     "output_type": "stream",
     "text": [
      "DecisionTreeClassifier(class_weight=None, criterion='gini', max_depth=9,\n",
      "            max_features=None, max_leaf_nodes=None,\n",
      "            min_impurity_decrease=0.0, min_impurity_split=None,\n",
      "            min_samples_leaf=1, min_samples_split=2,\n",
      "            min_weight_fraction_leaf=0.0, presort=False, random_state=None,\n",
      "            splitter='best')\n",
      "######### Accuracy #########\n",
      "train_acc: 0.9959282313687736\n",
      "test_acc: 0.8481806292791754\n",
      "########## confusion matrix ###########\n",
      "[[49707 15127]\n",
      " [ 4608 60548]]\n",
      "######## Classification report ##########\n",
      "             precision    recall  f1-score   support\n",
      "\n",
      "        0.0       0.92      0.77      0.83     64834\n",
      "        1.0       0.80      0.93      0.86     65156\n",
      "\n",
      "avg / total       0.86      0.85      0.85    129990\n",
      "\n",
      "########## Area under the curve ########\n",
      "0.8506084465909152\n"
     ]
    },
    {
     "data": {
      "text/plain": [
       "'done'"
      ]
     },
     "execution_count": 72,
     "metadata": {},
     "output_type": "execute_result"
    }
   ],
   "source": [
    "dt_balanced = DecisionTreeClassifier()\n",
    "param = {\"max_depth\": list(range(1,10,1))}\n",
    "model_evaluation_report(dt_balanced)"
   ]
  },
  {
   "cell_type": "code",
   "execution_count": 73,
   "metadata": {},
   "outputs": [
    {
     "name": "stdout",
     "output_type": "stream",
     "text": [
      "RandomForestClassifier(bootstrap=True, class_weight=None, criterion='gini',\n",
      "            max_depth=None, max_features='auto', max_leaf_nodes=None,\n",
      "            min_impurity_decrease=0.0, min_impurity_split=None,\n",
      "            min_samples_leaf=1, min_samples_split=2,\n",
      "            min_weight_fraction_leaf=0.0, n_estimators=8, n_jobs=1,\n",
      "            oob_score=False, random_state=None, verbose=0,\n",
      "            warm_start=False)\n",
      "######### Accuracy #########\n",
      "train_acc: 0.9903728223456025\n",
      "test_acc: 0.8801446265097315\n",
      "########## confusion matrix ###########\n",
      "[[54901  9933]\n",
      " [ 5647 59509]]\n",
      "######## Classification report ##########\n",
      "             precision    recall  f1-score   support\n",
      "\n",
      "        0.0       0.91      0.85      0.88     64834\n",
      "        1.0       0.86      0.91      0.88     65156\n",
      "\n",
      "avg / total       0.88      0.88      0.88    129990\n",
      "\n",
      "########## Area under the curve ########\n",
      "0.9417873577060175\n"
     ]
    },
    {
     "data": {
      "text/plain": [
       "'done'"
      ]
     },
     "execution_count": 73,
     "metadata": {},
     "output_type": "execute_result"
    }
   ],
   "source": [
    "rf_balanced = RandomForestClassifier()\n",
    "param = {\"n_estimators\": list(range(1,10,1))}\n",
    "model_evaluation_report(rf_balanced)"
   ]
  },
  {
   "cell_type": "code",
   "execution_count": 74,
   "metadata": {},
   "outputs": [
    {
     "data": {
      "text/html": [
       "<div>\n",
       "<style scoped>\n",
       "    .dataframe tbody tr th:only-of-type {\n",
       "        vertical-align: middle;\n",
       "    }\n",
       "\n",
       "    .dataframe tbody tr th {\n",
       "        vertical-align: top;\n",
       "    }\n",
       "\n",
       "    .dataframe thead th {\n",
       "        text-align: right;\n",
       "    }\n",
       "</style>\n",
       "<table border=\"1\" class=\"dataframe\">\n",
       "  <thead>\n",
       "    <tr style=\"text-align: right;\">\n",
       "      <th></th>\n",
       "      <th>features</th>\n",
       "      <th>importance</th>\n",
       "    </tr>\n",
       "  </thead>\n",
       "  <tbody>\n",
       "    <tr>\n",
       "      <th>311</th>\n",
       "      <td>TaxiOut</td>\n",
       "      <td>0.258539</td>\n",
       "    </tr>\n",
       "    <tr>\n",
       "      <th>313</th>\n",
       "      <td>Distance</td>\n",
       "      <td>0.217715</td>\n",
       "    </tr>\n",
       "    <tr>\n",
       "      <th>312</th>\n",
       "      <td>TaxiIn</td>\n",
       "      <td>0.178386</td>\n",
       "    </tr>\n",
       "    <tr>\n",
       "      <th>308</th>\n",
       "      <td>Weekend</td>\n",
       "      <td>0.019254</td>\n",
       "    </tr>\n",
       "    <tr>\n",
       "      <th>309</th>\n",
       "      <td>Evening</td>\n",
       "      <td>0.016388</td>\n",
       "    </tr>\n",
       "    <tr>\n",
       "      <th>304</th>\n",
       "      <td>weekII</td>\n",
       "      <td>0.016101</td>\n",
       "    </tr>\n",
       "    <tr>\n",
       "      <th>306</th>\n",
       "      <td>weekIV</td>\n",
       "      <td>0.014858</td>\n",
       "    </tr>\n",
       "    <tr>\n",
       "      <th>310</th>\n",
       "      <td>Morning</td>\n",
       "      <td>0.014275</td>\n",
       "    </tr>\n",
       "    <tr>\n",
       "      <th>305</th>\n",
       "      <td>weekIII</td>\n",
       "      <td>0.013284</td>\n",
       "    </tr>\n",
       "    <tr>\n",
       "      <th>1</th>\n",
       "      <td>B6</td>\n",
       "      <td>0.008155</td>\n",
       "    </tr>\n",
       "    <tr>\n",
       "      <th>10</th>\n",
       "      <td>WN</td>\n",
       "      <td>0.007944</td>\n",
       "    </tr>\n",
       "    <tr>\n",
       "      <th>307</th>\n",
       "      <td>weekV</td>\n",
       "      <td>0.007723</td>\n",
       "    </tr>\n",
       "    <tr>\n",
       "      <th>2</th>\n",
       "      <td>DL</td>\n",
       "      <td>0.006828</td>\n",
       "    </tr>\n",
       "    <tr>\n",
       "      <th>6</th>\n",
       "      <td>NK</td>\n",
       "      <td>0.006077</td>\n",
       "    </tr>\n",
       "    <tr>\n",
       "      <th>8</th>\n",
       "      <td>UA</td>\n",
       "      <td>0.005817</td>\n",
       "    </tr>\n",
       "    <tr>\n",
       "      <th>7</th>\n",
       "      <td>OO</td>\n",
       "      <td>0.005494</td>\n",
       "    </tr>\n",
       "    <tr>\n",
       "      <th>166</th>\n",
       "      <td>LAS</td>\n",
       "      <td>0.004325</td>\n",
       "    </tr>\n",
       "    <tr>\n",
       "      <th>229</th>\n",
       "      <td>PHX</td>\n",
       "      <td>0.004232</td>\n",
       "    </tr>\n",
       "    <tr>\n",
       "      <th>3</th>\n",
       "      <td>EV</td>\n",
       "      <td>0.004064</td>\n",
       "    </tr>\n",
       "    <tr>\n",
       "      <th>26</th>\n",
       "      <td>ATL</td>\n",
       "      <td>0.004008</td>\n",
       "    </tr>\n",
       "  </tbody>\n",
       "</table>\n",
       "</div>"
      ],
      "text/plain": [
       "     features  importance\n",
       "311   TaxiOut    0.258539\n",
       "313  Distance    0.217715\n",
       "312    TaxiIn    0.178386\n",
       "308   Weekend    0.019254\n",
       "309   Evening    0.016388\n",
       "304    weekII    0.016101\n",
       "306    weekIV    0.014858\n",
       "310   Morning    0.014275\n",
       "305   weekIII    0.013284\n",
       "1          B6    0.008155\n",
       "10         WN    0.007944\n",
       "307     weekV    0.007723\n",
       "2          DL    0.006828\n",
       "6          NK    0.006077\n",
       "8          UA    0.005817\n",
       "7          OO    0.005494\n",
       "166       LAS    0.004325\n",
       "229       PHX    0.004232\n",
       "3          EV    0.004064\n",
       "26        ATL    0.004008"
      ]
     },
     "execution_count": 74,
     "metadata": {},
     "output_type": "execute_result"
    }
   ],
   "source": [
    "importance_features = list(zip(features, rf_balanced.feature_importances_))\n",
    "importance_features = pd.DataFrame(importance_features, columns = [\"features\", \"importance\"])\n",
    "importance_features.sort_values(by = [\"importance\"], ascending = False, inplace = True)\n",
    "importance_features[:20]\n"
   ]
  },
  {
   "cell_type": "code",
   "execution_count": 75,
   "metadata": {},
   "outputs": [
    {
     "name": "stderr",
     "output_type": "stream",
     "text": [
      "c:\\users\\hp\\appdata\\local\\conda\\conda\\envs\\cv-nd\\lib\\site-packages\\matplotlib\\figure.py:2022: UserWarning: This figure includes Axes that are not compatible with tight_layout, so results might be incorrect.\n",
      "  warnings.warn(\"This figure includes Axes that are not compatible \"\n"
     ]
    },
    {
     "data": {
      "image/png": "[encoded data removed]",
      "text/plain": [
       "<matplotlib.figure.Figure at 0x20c135cdcc0>"
      ]
     },
     "metadata": {},
     "output_type": "display_data"
    }
   ],
   "source": [
    "import matplotlib.pyplot as plt\n",
    "fig, axes = plt.subplots(nrows = 1, ncols = 2, figsize = (12, 6), tight_layout = True)\n",
    "ax = axes.ravel() \n",
    "plt1 = ax[0]\n",
    "\n",
    "importance_list = rf.feature_importances_\n",
    "name_list = features\n",
    "importance_list, name_list = zip(*sorted(zip(importance_list, name_list) )[-10:])\n",
    "plt1.barh(range(len(name_list)),importance_list,align='center')\n",
    "plt1.set_yticks(range(len(name_list)))\n",
    "plt1.set_yticklabels(name_list)\n",
    "plt1.set_xticks([0, 0.14 ,0.28, 0.42])\n",
    "plt1.set_xlabel('Relative Importance in the Random Forest')\n",
    "plt1.set_title('Relative importance of Each Feature -\\n Unbalanced dataset')\n",
    "plt1.grid(False)\n",
    "\n",
    "\n",
    "plt2 = ax[1]\n",
    "\n",
    "importance_list = rf_balanced.feature_importances_\n",
    "name_list = features\n",
    "importance_list, name_list = zip(*sorted(zip(importance_list, name_list) )[-10:])\n",
    "plt2.barh(range(len(name_list)),importance_list,align='center')\n",
    "plt2.set_yticks(range(len(name_list)))\n",
    "plt2.set_yticklabels(name_list)\n",
    "plt2.set_xticks([0, 0.04 ,0.08, 0.12])\n",
    "plt2.set_xlabel('Relative Importance in the Random Forest')\n",
    "plt2.set_title('Relative importance of Each Feature -\\n Balanced dataset')\n",
    "plt2.grid(False)"
   ]
  }
 ],
 "metadata": {
  "kernelspec": {
   "display_name": "Python 3",
   "language": "python",
   "name": "python3"
  },
  "language_info": {
   "codemirror_mode": {
    "name": "ipython",
    "version": 3
   },
   "file_extension": ".py",
   "mimetype": "text/x-python",
   "name": "python",
   "nbconvert_exporter": "python",
   "pygments_lexer": "ipython3",
   "version": "3.6.5"
  }
 },
 "nbformat": 4,
 "nbformat_minor": 2
}
